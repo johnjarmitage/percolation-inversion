{
 "cells": [
  {
   "cell_type": "markdown",
   "metadata": {},
   "source": [
    "# Generation of 1D profiles to percolate liquid through\n",
    "\n",
    "I want to generate a range of 1D profiles for exploring how variability impact porosity. To do this I will build on the example of [Lukas Mosser](https://github.com/LukasMosser/roeth_tarantola_blog_series) and instead of having layers of velocity, I will have layers of permeability.\n",
    "\n",
    "Fluid will migrate vertically through my matrix by D'Arcy flow,\n",
    "$$ \\partial_{t} \\phi + \\partial_{z} (\\phi v) = 0 $$\n",
    "where,\n",
    "$$ \\phi v = \\frac{k}{\\eta} \\Delta\\rho g $$\n",
    "In these coupled equations the permeability, $k$, is a function of the porosity, and to keep things simple I will assume it is just a linear function,\n",
    "$$ k = k_{0}\\phi $$\n",
    "where $k_{0}$ is the permeability coefficient.\n",
    "\n",
    "Therfore the simple equation to solve is,\n",
    "$$ \\partial_{t}\\phi + \\frac{k_{o}\\Delta\\rho g}{\\eta} \\partial_{z}{\\phi} = 0 $$\n",
    "\n",
    "So just for fun, I will build a series of 1D profiles and then percolate fluid through them to see how sensative the model is to spatial variation in $k_{0}$."
   ]
  },
  {
   "cell_type": "code",
   "execution_count": 1,
   "metadata": {},
   "outputs": [],
   "source": [
    "%matplotlib inline\n",
    "import numpy as np\n",
    "import matplotlib.pyplot as plt\n",
    "import torch"
   ]
  },
  {
   "cell_type": "markdown",
   "metadata": {},
   "source": [
    "### The layers\n",
    "\n",
    "I will have 5 layers each being 10 km thick. Permeability will be linearly increasing with depth."
   ]
  },
  {
   "cell_type": "code",
   "execution_count": 2,
   "metadata": {},
   "outputs": [],
   "source": [
    "lx = 10000 # length of model space (m)\n",
    "nx = 100 # number of cells in x\n",
    "lz = 50000 # depth of model space (m)\n",
    "nz = 5 # number of cells in z\n",
    "dz = int(lz/nz) # discretisation\n",
    "dx = lx/nx # discretisation\n",
    "n_layers = 5 # number of layers\n",
    "k0 = 1e-7 # permeability at top\n",
    "dk_const = 1e-8 # permeability increase"
   ]
  },
  {
   "cell_type": "markdown",
   "metadata": {},
   "source": [
    "### Define the probability distribution\n",
    "\n",
    "Just start with a uniform distribution using pytorch. Set the initial seed to 42."
   ]
  },
  {
   "cell_type": "code",
   "execution_count": 3,
   "metadata": {},
   "outputs": [],
   "source": [
    "torch.manual_seed(42)\n",
    "torch.cuda.manual_seed_all(42)\n",
    "\n",
    "dk = torch.distributions.Uniform(low=-1,high=1)"
   ]
  },
  {
   "cell_type": "markdown",
   "metadata": {},
   "source": [
    "Because I am using pytorch to generate the model I will create a container to store the permeabilities in"
   ]
  },
  {
   "cell_type": "code",
   "execution_count": 4,
   "metadata": {},
   "outputs": [
    {
     "name": "stdout",
     "output_type": "stream",
     "text": [
      "Layer  1  at depth  0 [m] has permeability of 1.1e-07\n",
      "Layer  2  at depth  10000 [m] has permeability of 9.4e-08\n",
      "Layer  3  at depth  20000 [m] has permeability of 9.3e-08\n",
      "Layer  4  at depth  30000 [m] has permeability of 8.1e-08\n",
      "Layer  5  at depth  40000 [m] has permeability of 7.3e-08\n"
     ]
    }
   ],
   "source": [
    "model = torch.ones(nz,1)\n",
    "\n",
    "kl = k0 + dk_const*dk.sample()\n",
    "for i in range(0, n_layers):\n",
    "    model[dz*i:dz*(i+1)] = kl\n",
    "    kl = (kl - dk_const) + dk_const*dk.sample()\n",
    "    print(\"Layer \", i+1, \" at depth \", dz*i, \"[m] has permeability of %3.1e\" % kl.item())"
   ]
  },
  {
   "cell_type": "markdown",
   "metadata": {},
   "source": [
    "In an effort to improve lets make that into a function, just like in the example."
   ]
  },
  {
   "cell_type": "code",
   "execution_count": 5,
   "metadata": {},
   "outputs": [],
   "source": [
    "def sample_model_N_times(k0,dk_const,n_layers,nz,N):\n",
    "    models = []\n",
    "    permeabilities = []\n",
    "    for i in range(N):\n",
    "        model_true = torch.ones(nz,1)\n",
    "\n",
    "        kl = k0 + dk_const*dk.sample()\n",
    "        k_temp = []\n",
    "        for i in range(0, n_layers):\n",
    "            k_temp.append(kl)\n",
    "            model_true[dz*i:dz*(i+1)] = kl\n",
    "            kl = (kl - dk_const) + dk_const*dk.sample()\n",
    "        permeabilities.append(torch.stack(k_temp, 0))\n",
    "        models.append(model_true)\n",
    "        \n",
    "    models_th = torch.stack(models, 0)\n",
    "    permeabilities_th = torch.stack(permeabilities, 0) \n",
    "    return models_th, permeabilities_th"
   ]
  },
  {
   "cell_type": "code",
   "execution_count": 6,
   "metadata": {},
   "outputs": [
    {
     "name": "stdout",
     "output_type": "stream",
     "text": [
      "torch.Size([1, 5, 1])\n",
      "torch.Size([1, 5])\n",
      "tensor([[9.5131e-08, 9.1004e-08, 8.9820e-08, 7.2483e-08, 7.1175e-08]])\n"
     ]
    }
   ],
   "source": [
    "earth_models_th, layer_permeabilities_th = sample_model_N_times(k0,dk_const,n_layers,nz,1)\n",
    "\n",
    "print(earth_models_th.size())\n",
    "print(layer_permeabilities_th.size())\n",
    "print(layer_permeabilities_th)"
   ]
  },
  {
   "cell_type": "markdown",
   "metadata": {},
   "source": [
    "Call the function to make a nice number of models, say 100:"
   ]
  },
  {
   "cell_type": "code",
   "execution_count": 7,
   "metadata": {},
   "outputs": [],
   "source": [
    "N = 100\n",
    "earth_models_th, layer_permeabilities_th = sample_model_N_times(k0,dk_const,n_layers,nz,N)"
   ]
  },
  {
   "cell_type": "markdown",
   "metadata": {},
   "source": [
    "Now plot them:"
   ]
  },
  {
   "cell_type": "code",
   "execution_count": 13,
   "metadata": {},
   "outputs": [],
   "source": [
    "def plot_profiles(y,layers,N,dz):\n",
    "    for j in range(N):\n",
    "        x = []\n",
    "        z = []\n",
    "        z_ = 0\n",
    "        for i in range(layers):\n",
    "            z.append(z_)\n",
    "            z_ += dz\n",
    "            x.append(y.numpy()[j][i])\n",
    "            z.append(z_)\n",
    "            x.append(y.numpy()[j][i])\n",
    "\n",
    "        plt.plot(x,z,'black')"
   ]
  },
  {
   "cell_type": "code",
   "execution_count": 14,
   "metadata": {},
   "outputs": [
    {
     "data": {
      "image/png": "[encoded data removed]",
      "text/plain": [
       "<Figure size 432x288 with 1 Axes>"
      ]
     },
     "metadata": {
      "needs_background": "light"
     },
     "output_type": "display_data"
    }
   ],
   "source": [
    "plot_profiles(layer_permeabilities_th,n_layers,N,dz)\n",
    "plt.gca().invert_yaxis()\n",
    "plt.xlabel('Permeability Coefficient')\n",
    "plt.ylabel('Depth (m)')\n",
    "plt.show()"
   ]
  },
  {
   "cell_type": "markdown",
   "metadata": {},
   "source": [
    "Cool, now to let fluid percolate through the 1D column... TO DO: translate the TVD matlab function to python..."
   ]
  },
  {
   "cell_type": "code",
   "execution_count": 10,
   "metadata": {},
   "outputs": [],
   "source": [
    "from utils import advection1d"
   ]
  },
  {
   "cell_type": "markdown",
   "metadata": {},
   "source": [
    "Physical parameters for my fluid"
   ]
  },
  {
   "cell_type": "code",
   "execution_count": 11,
   "metadata": {},
   "outputs": [],
   "source": [
    "Drho = 1000 # kg/m3\n",
    "g = 9.81 # m/s2\n",
    "eta = 0.1 # Pa s"
   ]
  },
  {
   "cell_type": "code",
   "execution_count": 12,
   "metadata": {},
   "outputs": [
    {
     "ename": "TypeError",
     "evalue": "data type not understood",
     "output_type": "error",
     "traceback": [
      "\u001b[0;31m---------------------------------------------------------------------------\u001b[0m",
      "\u001b[0;31mTypeError\u001b[0m                                 Traceback (most recent call last)",
      "\u001b[0;32m<ipython-input-12-b3bb3c96b9c8>\u001b[0m in \u001b[0;36m<module>\u001b[0;34m\u001b[0m\n\u001b[1;32m      2\u001b[0m \u001b[0mddz\u001b[0m \u001b[0;34m=\u001b[0m \u001b[0mlz\u001b[0m\u001b[0;34m/\u001b[0m\u001b[0mnnz\u001b[0m\u001b[0;34m\u001b[0m\u001b[0;34m\u001b[0m\u001b[0m\n\u001b[1;32m      3\u001b[0m \u001b[0mcoord\u001b[0m \u001b[0;34m=\u001b[0m \u001b[0mnp\u001b[0m\u001b[0;34m.\u001b[0m\u001b[0mlinspace\u001b[0m\u001b[0;34m(\u001b[0m\u001b[0;36m0\u001b[0m\u001b[0;34m,\u001b[0m\u001b[0mlz\u001b[0m\u001b[0;34m,\u001b[0m\u001b[0mnnz\u001b[0m\u001b[0;34m)\u001b[0m\u001b[0;34m\u001b[0m\u001b[0;34m\u001b[0m\u001b[0m\n\u001b[0;32m----> 4\u001b[0;31m \u001b[0mphi\u001b[0m \u001b[0;34m=\u001b[0m \u001b[0mnp\u001b[0m\u001b[0;34m.\u001b[0m\u001b[0mzeros\u001b[0m\u001b[0;34m(\u001b[0m\u001b[0mnnz\u001b[0m\u001b[0;34m,\u001b[0m\u001b[0;36m1\u001b[0m\u001b[0;34m)\u001b[0m\u001b[0;34m\u001b[0m\u001b[0;34m\u001b[0m\u001b[0m\n\u001b[0m\u001b[1;32m      5\u001b[0m \u001b[0;34m\u001b[0m\u001b[0m\n\u001b[1;32m      6\u001b[0m \u001b[0mk1\u001b[0m \u001b[0;34m=\u001b[0m \u001b[0mlayer_permeabilities_th\u001b[0m\u001b[0;34m.\u001b[0m\u001b[0mnumpy\u001b[0m\u001b[0;34m(\u001b[0m\u001b[0;34m)\u001b[0m\u001b[0;34m[\u001b[0m\u001b[0;36m0\u001b[0m\u001b[0;34m]\u001b[0m\u001b[0;34m[\u001b[0m\u001b[0;34m:\u001b[0m\u001b[0;34m]\u001b[0m\u001b[0;34m\u001b[0m\u001b[0;34m\u001b[0m\u001b[0m\n",
      "\u001b[0;31mTypeError\u001b[0m: data type not understood"
     ]
    }
   ],
   "source": [
    "nnz = 100 # depth discretisation\n",
    "ddz = lz/nnz\n",
    "coord = np.linspace(0,lz,nnz)\n",
    "phi = np.zeros(nnz,1)\n",
    "\n",
    "k1 = layer_permeabilities_th.numpy()[0][:]\n",
    "vel = Drho*g*k1/eta\n",
    "\n",
    "dt = 1e-5\n",
    "\n",
    "phi = advection_1d(coord,phi,vel,ddz,dt)"
   ]
  },
  {
   "cell_type": "code",
   "execution_count": null,
   "metadata": {},
   "outputs": [],
   "source": []
  }
 ],
 "metadata": {
  "kernelspec": {
   "display_name": "Python 3",
   "language": "python",
   "name": "python3"
  },
  "language_info": {
   "codemirror_mode": {
    "name": "ipython",
    "version": 3
   },
   "file_extension": ".py",
   "mimetype": "text/x-python",
   "name": "python",
   "nbconvert_exporter": "python",
   "pygments_lexer": "ipython3",
   "version": "3.7.1"
  }
 },
 "nbformat": 4,
 "nbformat_minor": 2
}
